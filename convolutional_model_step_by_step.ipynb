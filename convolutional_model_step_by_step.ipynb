{
 "cells": [
  {
   "cell_type": "markdown",
   "id": "103bc07a-4eb6-4656-b0b5-5a7fe7465387",
   "metadata": {},
   "source": [
    "# Convolutional Neural Networks - Step By Step"
   ]
  },
  {
   "cell_type": "markdown",
   "id": "676facbe-c3d9-41ae-b041-9afa17527c31",
   "metadata": {},
   "source": [
    "## Import Modules"
   ]
  },
  {
   "cell_type": "code",
   "execution_count": 2,
   "id": "3e5c4aa4-673b-4b33-a11e-bf0db8b306b8",
   "metadata": {},
   "outputs": [],
   "source": [
    "import numpy as np\n",
    "import h5py\n",
    "import matplotlib.pyplot as plt\n",
    "\n",
    "%matplotlib inline\n",
    "\n",
    "plt.rcParams['figure.figsize'] = (5.0, 4.0) # set default size of plots\n",
    "plt.rcParams['image.interpolation'] = 'nearest'\n",
    "plt.rcParams['image.cmap'] = 'gray'\n",
    "\n",
    "%load_ext autoreload\n",
    "%autoreload 2\n",
    "\n",
    "np.random.seed(1)\n"
   ]
  },
  {
   "cell_type": "markdown",
   "id": "be05e0c2-1ed1-4764-a810-49b9d8b7f854",
   "metadata": {},
   "source": [
    "## GOALS\n",
    "\n",
    "We will be implementing the building blocks of a convlutional neural network."
   ]
  },
  {
   "cell_type": "markdown",
   "id": "7d18a77e-7f60-4614-8bd7-be8f0c99e8a4",
   "metadata": {},
   "source": [
    "Note that for every forward function, there is a corresponding backward equivalent, hence , at every step of your forward module you will store some parameters in a cache. These parameters are used to compute gradients during backpropagation."
   ]
  },
  {
   "cell_type": "markdown",
   "id": "1d5d5700-d7ea-43fe-8fc6-0ee847ef0f14",
   "metadata": {},
   "source": [
    "### Convolution Neural Networks\n",
    "\n",
    "although programming frameworks make convolutions easy to use, they remain one of the hardest concepts in DL.\n",
    "\n",
    "A Convolution layer transforms an input volume into an output volume of different size\n",
    "\n",
    "We will build every step of the convolution layer in this notebook, First, we will implement two helper functions, one for zero padding and the other for computing the convolution function itself."
   ]
  },
  {
   "cell_type": "markdown",
   "id": "58b59f57-e4be-4043-badc-3489f427c081",
   "metadata": {},
   "source": [
    "### Zero Padding\n",
    "\n",
    "zero-padding adds zeros around the border of an image\n",
    "\n",
    "The main benfits of padding are\n",
    "\n",
    "- It allows you to use a CONV layer without necessarily shrinking the height and width of the volumes. This is important for building deep neural networks, since otherwise the height and width would shrink as you go to deeper layers, An important special case is the same convolution, in which the height/width is exactly preserved after one layer.\n",
    "\n",
    "- It helps us keep more of the information at the border of an image. without padding, very few values at the next layer would be affected by pixels as the edges of an image"
   ]
  },
  {
   "cell_type": "markdown",
   "id": "463b0709-85ae-4d7b-8b3e-7104e85a9df6",
   "metadata": {},
   "source": [
    "Now, we implement the function, which pads all the images of a batch of examples X with zeros. use np.pad. Note if you want to pad the array a of shape (5,5,5,5,5) with pad = 1 for the 2nd dimension, pad = 3 for the 4th dimension and pad = 0 for the rest, you would do it using the following code\n",
    "\n",
    "a = np.pad(a,((0,0),(1,1),(0,0),(3,3),(0,0)), mode='constant', constant_values=(0,0))"
   ]
  },
  {
   "cell_type": "code",
   "execution_count": 27,
   "id": "22d737e5-f79e-444d-81e3-685c4ecea251",
   "metadata": {
    "scrolled": true
   },
   "outputs": [
    {
     "data": {
      "image/png": "[encoded data removed]",
      "text/plain": [
       "<Figure size 500x400 with 1 Axes>"
      ]
     },
     "metadata": {},
     "output_type": "display_data"
    },
    {
     "data": {
      "image/png": "[encoded data removed]",
      "text/plain": [
       "<Figure size 500x400 with 1 Axes>"
      ]
     },
     "metadata": {},
     "output_type": "display_data"
    }
   ],
   "source": [
    "# Let`s First understand padding using a visual representation\n",
    "\n",
    "\n",
    "# Create a 5x5 image (2D array)\n",
    "image = np.array([[1, 2, 3, 4, 5],\n",
    "                  [6, 7, 8, 9, 10],\n",
    "                  [11, 12, 13, 14, 15],\n",
    "                  [16, 17, 18, 19, 20],\n",
    "                  [21, 22, 23, 24, 25]])\n",
    "\n",
    "\n",
    "# Display the original image\n",
    "plt.imshow(image, cmap='gray')\n",
    "plt.title(\"Original Image\")\n",
    "plt.axis('off')\n",
    "plt.show()\n",
    "\n",
    "# Pad the image with a constant value of 0\n",
    "padded_image = np.pad(image, pad_width=1, mode='constant', constant_values=0)\n",
    "\n",
    "\n",
    "# Display the padded image\n",
    "plt.imshow(padded_image, cmap='gray')\n",
    "plt.title(\"Padded Image (Constant Padding)\")\n",
    "plt.axis('off')\n",
    "plt.show()"
   ]
  },
  {
   "cell_type": "code",
   "execution_count": 40,
   "id": "c28ef2bc-5b3a-4c25-b848-0a82dfb54f8b",
   "metadata": {},
   "outputs": [],
   "source": [
    "def zero_pad(X, pad):\n",
    "    \"\"\"\n",
    "    Pad with zeros all images of the dataset X. The padding is applied to the height and width of an image, \n",
    "    as illustrated in Figure 1.\n",
    "    \n",
    "    Argument:\n",
    "    X -- python numpy array of shape (m, n_H, n_W, n_C) representing a batch of m images\n",
    "    pad -- integer, amount of padding around each image on vertical and horizontal dimensions\n",
    "    \n",
    "    Returns:\n",
    "    X_pad -- padded image of shape (m, n_H + 2*pad, n_W + 2*pad, n_C)\n",
    "    \"\"\"\n",
    "    X_pad = np.pad(X,((0,0),(pad,pad),(pad,pad),(0,0)), mode='constant', constant_values = (0,0))\n",
    "    \n",
    "    return X_pad"
   ]
  },
  {
   "cell_type": "code",
   "execution_count": 24,
   "id": "ea9a649b-cbfd-405b-9a49-6dc3afba749c",
   "metadata": {},
   "outputs": [
    {
     "name": "stdout",
     "output_type": "stream",
     "text": [
      "x.shape - (4, 3, 3, 2)\n",
      "x_pad.shape - (4, 5, 5, 2)\n",
      "x[1,1] \n",
      "  [[ 0.90085595 -0.68372786]\n",
      " [-0.12289023 -0.93576943]\n",
      " [-0.26788808  0.53035547]]\n",
      "x_pad[1,1] \n",
      " [[ 0.          0.        ]\n",
      " [ 0.04221375  0.58281521]\n",
      " [-1.10061918  1.14472371]\n",
      " [ 0.90159072  0.50249434]\n",
      " [ 0.          0.        ]]\n"
     ]
    },
    {
     "data": {
      "text/plain": [
       "<matplotlib.image.AxesImage at 0x12d4807f0>"
      ]
     },
     "execution_count": 24,
     "metadata": {},
     "output_type": "execute_result"
    },
    {
     "data": {
      "image/png": "[encoded data removed]",
      "text/plain": [
       "<Figure size 500x400 with 2 Axes>"
      ]
     },
     "metadata": {},
     "output_type": "display_data"
    }
   ],
   "source": [
    "np.random.seed(1)\n",
    "\n",
    "x = np.random.randn(4,3,3,2)\n",
    "x_pad = zero_pad(x,1)\n",
    "\n",
    "print (\"x.shape -\", x.shape)\n",
    "print (\"x_pad.shape -\", x_pad.shape)\n",
    "print (\"x[1,1] \\n \", x[1,1])\n",
    "print (\"x_pad[1,1] \\n\", x_pad[1,1])\n",
    "\n",
    "# plot both the arrays\n",
    "fig, axarr = plt.subplots(1,2)\n",
    "axarr[0].set_title('x')\n",
    "axarr[0].imshow(x[0,:,:,0])\n",
    "axarr[1].set_title('x_pad')\n",
    "axarr[1].imshow(x_pad[0,:,:,0])"
   ]
  },
  {
   "cell_type": "markdown",
   "id": "8f6d48de-d236-4f94-aa97-e99f81b6dd24",
   "metadata": {},
   "source": [
    "### Single Step of Convolution\n",
    "\n",
    "Now, We`ll implement a single step of convolution, in which you apply the filter to a single position of the input. This will be used to build a convolutional unit, which\n",
    "- takes an input volume\n",
    "- applies a filter at every position of the input\n",
    "- outputs anothet volume"
   ]
  },
  {
   "cell_type": "markdown",
   "id": "23fc005a-062e-432c-8aaa-9c19260b30b7",
   "metadata": {},
   "source": [
    "In a computer vision application, each value in the matrix on the left corresponds to a single pixel value, and we convolve a 3*3 matrix filter with the image by multiplying its values element wise with the original matrix, then summing them up and adding a bias."
   ]
  },
  {
   "cell_type": "markdown",
   "id": "ee7d6317-70f8-4e25-b97b-1c7115b112a7",
   "metadata": {},
   "source": [
    "Now, we implement a single step of convolution, corresponding to applying a filter to just one of the positions to get a single real-valued output.\n",
    "\n",
    "NOTE - the variable b will be passed in as a numpy array, If we add a scalar to a numpy array, the result is a numpy array."
   ]
  },
  {
   "cell_type": "code",
   "execution_count": 31,
   "id": "8f3b607f-8740-481d-9baf-d98f2098b719",
   "metadata": {},
   "outputs": [],
   "source": [
    "\n",
    "def conv_single_step(a_slice_prev, W, b):\n",
    "    \"\"\"\n",
    "    Apply one filter defined by parameters W on a single slice (a_slice_prev) of the output activation \n",
    "    of the previous layer.\n",
    "    \n",
    "    Arguments:\n",
    "    a_slice_prev -- slice of input data of shape (f, f, n_C_prev)\n",
    "    W -- Weight parameters contained in a window - matrix of shape (f, f, n_C_prev)\n",
    "    b -- Bias parameters contained in a window - matrix of shape (1, 1, 1)\n",
    "    \n",
    "    Returns:\n",
    "    Z -- a scalar value, the result of convolving the sliding window (W, b) on a slice x of the input data\n",
    "    \"\"\"\n",
    "\n",
    "    # Element-wise product between a_slice_prev and W. Do not add the bias yet.\n",
    "    s = np.multiply(a_slice_prev, W)\n",
    "    # Sum over all entries of the volume s.\n",
    "    Z = np.sum(s)\n",
    "    # Add bias b to Z. Cast b to a float() so that Z results in a scalar value.\n",
    "    Z = Z + float(b)\n",
    "\n",
    "    return Z"
   ]
  },
  {
   "cell_type": "code",
   "execution_count": 37,
   "id": "c1dbf0bc-aece-412c-a899-ab151bb2528b",
   "metadata": {},
   "outputs": [
    {
     "name": "stdout",
     "output_type": "stream",
     "text": [
      "Z= -6.999089450680221\n"
     ]
    }
   ],
   "source": [
    "np.random.seed(1)\n",
    "a_slice_prev = np.random.randn(4,4,3)\n",
    "W = np.random.randn(4,4,3)\n",
    "b = np.random.randn(1,1,1)\n",
    "\n",
    "Z = conv_single_step(a_slice_prev,W,b)\n",
    "print('Z=',Z)"
   ]
  },
  {
   "cell_type": "markdown",
   "id": "69c4f4c6-e62b-4b95-877c-2e7acc7cdd95",
   "metadata": {},
   "source": [
    "### Convolutional Neural Networks - Forward Pass\n",
    "\n",
    "In the forward pass, you will take many filters and convolve them on the input. Each convolution gives you a 2D matrix output. You will then stack these outputs to get a 3D volume."
   ]
  },
  {
   "cell_type": "markdown",
   "id": "af1dfad2-cec2-408a-90b2-e6745b1166c1",
   "metadata": {},
   "source": [
    "Now, We implement a function below to convolve the filters W on an input activation A_prev. This function takes the following inputs\n",
    "- A_prev, the activations output by the previous layer.\n",
    "- weights are denoted by W. The filter window size is f by f.\n",
    "- the bias vector is b, where each filter has its own bias.\n",
    "\n",
    "Also, we have access to the hyperparameters dictionary which contains the stride and the padding.\n",
    "\n",
    "NOTE-\n",
    "To Select a 2*2 slice at the upper left corner of a matrix \"a_prev\" (shape(5,5,3)), you would do:\n",
    "\n",
    "```python\n",
    "a_slice_prev = a_prev[0:2,0:2,:]\n",
    "```\n",
    "\n",
    "Notice, how this gives a 3d slice that has height 2, width 2, and depth 3. Depth is the number of channels. This will be useful when you will define `a_slice_prev` below, using the start/end indexes. To Define a_slice you will need to first define its corners vert_start, vert_end, horiz_start, horiz_end.\n",
    "\n",
    "NOTE-\n",
    "for now, we won`t worry about vectorization, and will just implement everything with for loops."
   ]
  },
  {
   "cell_type": "code",
   "execution_count": 42,
   "id": "eccdf99d-8477-4efa-ba49-3f1960f780ba",
   "metadata": {},
   "outputs": [],
   "source": [
    "# now we implement the forward propagation of the convolution network\n",
    "\n",
    "def conv_forward(A_prev, W, b, hparameters):\n",
    "    \"\"\"\n",
    "    Arguments:\n",
    "    A_prev -- output activations of the previous layer, \n",
    "        numpy array of shape (m, n_H_prev, n_W_prev, n_C_prev)\n",
    "    W -- Weights, numpy array of shape (f, f, n_C_prev, n_C)\n",
    "    b -- Biases, numpy array of shape (1, 1, 1, n_C)\n",
    "    hparameters -- python dictionary containing \"stride\" and \"pad\"\n",
    "        \n",
    "    Returns:\n",
    "    Z -- conv output, numpy array of shape (m, n_H, n_W, n_C)\n",
    "    cache -- cache of values needed for the conv_backward() function\n",
    "    \"\"\"\n",
    "    \n",
    "\n",
    "    # Retrieve dimensions from input shapes. this allows us to know how many dimensions and filters we have.\n",
    "    # retrieve dimensions from A_prev`s shape\n",
    "    m = A_prev.shape[0]\n",
    "    n_H_prev = A_prev.shape[1]\n",
    "    n_W_prev = A_prev.shape[2]\n",
    "    n_C_prev = A_prev.shape[3]\n",
    "\n",
    "    # retrieve dimensions from W`s shape\n",
    "    (f, f, n_C_prev, n_C) = W.shape[0], W.shape[1], W.shape[2], W.shape[3]\n",
    "\n",
    "    # Retrieve hyperparameters\n",
    "    stride = hparameters[\"stride\"]\n",
    "    pad = hparameters[\"pad\"]\n",
    "\n",
    "    # Compute output dimensions.\n",
    "    # Calculates the height(`n_H`) and width(`n_W`) of the output feature map using the formula for convolutional layers\n",
    "    n_H = int(int(n_H_prev + 2*pad - f) / stride + 1) \n",
    "    n_W = int(int(n_W_prev + 2*pad - f) / stride + 1)\n",
    "\n",
    "    # Initialize output volume `Z`\n",
    "    # Initializes an output volume `Z` with zeros that will store the results of the convolution operation\n",
    "    Z = np.zeros([m, n_H, n_W, n_C])\n",
    "\n",
    "    # Pad input activations\n",
    "    # pads the input activations `A_prev` using a helper function `zero_pad`, which adds zeros around the input volume based on specified padding.\n",
    "    A_prev_pad = zero_pad(A_prev, pad)\n",
    "\n",
    "    # Loop over training examples\n",
    "    # loop over each training example in the batch\n",
    "    for i in range(m):\n",
    "        a_prev_pad = A_prev_pad[i]\n",
    "        \n",
    "        for h in range(n_H):\n",
    "            # for each height position in the output volume, calculate where to start and end\n",
    "            # slicing in the padded activation map\n",
    "            vertical_start = stride * h\n",
    "            vertical_end = vertical_start + f\n",
    "\n",
    "            for w in range(n_W):\n",
    "                # similar to height, calculates horizontal start and end positions for scaling\n",
    "                horizontal_start = stride * w\n",
    "                horizontal_end = horizontal_start + f\n",
    "                \n",
    "                for c in range(n_C): # loop over output volumes\n",
    "                    a_slice_prev = A_prev_pad[i, vertical_start:vertical_end, horizontal_start:horizontal_end, :] # slices out a portion of `A_prev_pad` corresponding to the current filter`s receptive field\n",
    "\n",
    "                    # convolution_operation\n",
    "                    weights = W[:, :, :, c]\n",
    "                    biases = b[:, :, :, c]\n",
    "                    # calls a helper function `conv_single_step`, which performs the actual convolution operation between the sliced input and filter weights plus bias.\n",
    "                    Z[i, h, w, c] = conv_single_step(a_slice_prev, weights, biases)\n",
    "\n",
    "    # ensures that the output shape is correct before returning it\n",
    "    assert(Z.shape == (m, n_H, n_W, n_C))\n",
    "\n",
    "    # saves necessary variables for use during backpropagation\n",
    "    cache = (A_prev, W, b, hparameters)\n",
    "\n",
    "    return Z, cache"
   ]
  },
  {
   "cell_type": "code",
   "execution_count": 41,
   "id": "950d903e-0ed7-485f-93a8-4885cf68a658",
   "metadata": {},
   "outputs": [
    {
     "name": "stdout",
     "output_type": "stream",
     "text": [
      "Z's mean =\n",
      " 0.6923608807576932\n",
      "Z[3,2,1] =\n",
      " [-1.28912231  2.27650251  6.61941931  0.95527176  8.25132576  2.31329639\n",
      " 13.00689405  2.34576051]\n",
      "cache_conv[0][1][2][3] =\n",
      " [-1.1191154   1.9560789  -0.3264995  -1.34267579]\n"
     ]
    }
   ],
   "source": [
    "np.random.seed(1)\n",
    "A_prev = np.random.randn(10,5,7,4)\n",
    "W = np.random.randn(3,3,4,8)\n",
    "b = np.random.randn(1,1,1,8)\n",
    "hparameters = {\"pad\" : 1,\n",
    "               \"stride\": 2}\n",
    "\n",
    "Z, cache_conv = conv_forward(A_prev, W, b, hparameters)\n",
    "print(\"Z's mean =\\n\", np.mean(Z))\n",
    "print(\"Z[3,2,1] =\\n\", Z[3,2,1])\n",
    "print(\"cache_conv[0][1][2][3] =\\n\", cache_conv[0][1][2][3])"
   ]
  },
  {
   "cell_type": "markdown",
   "id": "4d776291-8cae-41f7-915d-311b45b6f600",
   "metadata": {},
   "source": [
    "### Pooling Layer\n",
    "\n",
    "The pooling layer reduces the height and width of the input. It helps reduce computation, as well as helps make feature detectors more invariant to its position in the input.\n",
    "The two types of pooling layers are:\n",
    "\n",
    "- Max-pooling layer: slides an (f,f) window over the input and stores the nax value of the window in the output.\n",
    "- Average-pooling layer: slides an (f,f) window over the input and stores the average of the window in the output.\n",
    "\n",
    "These pooling layers have no parameters for backpropagation to train. However, they have parameters such as window size f. This specifies the height and width of the f*f window you would compute a max or average over.\n",
    "\n",
    "#### Forward Pooling\n",
    "\n",
    "Now, you are going to implement Max-pool and Average-pool, in the same function."
   ]
  },
  {
   "cell_type": "code",
   "execution_count": 43,
   "id": "512ce8cf-f604-4665-8ef1-047793538a12",
   "metadata": {},
   "outputs": [],
   "source": [
    "def pool_forward(A_prev,hparameters, mode='max'):\n",
    "    \"\"\"\n",
    "    Implements then forward pass of the pooling layer\n",
    "\n",
    "    Argument:\n",
    "    A_prev -- Input data, numpy array of shape (m, n_H_prev, n_W_prev, n_C_prev)\n",
    "    hparameters -- python dictionary containing `f` and `stride`\n",
    "    mode -- the pooling mode you would like to use, i.e max or average\n",
    "\n",
    "    Returns:\n",
    "    A -- output of the pool layer, a numpy array of shape(m, n_H, n_W, n_C)\n",
    "    cache -- cache used in the backward pass of the pooling layer, contains input and hparameters\n",
    "    \"\"\"\n",
    "    # Retrieve dimensions from the input shape\n",
    "    (m, n_H_prev, n_W_prev, n_C_prev) = A_prev.shape\n",
    "\n",
    "    # Retrieve hyperparameters from \"hparameters\"\n",
    "    f = hparameters[\"f\"]\n",
    "    stride = hparameters[\"stride\"]\n",
    "\n",
    "    # Define the dimensions of the output \n",
    "    n_H = int(1 + (n_H_prev - f) / stride) # calculates the height(`n_H`) of the output feature map using the formula for pooling layers\n",
    "    n_W = int(1 + (n_W_prev - f) / stride) # calculates the width(`n_W`) of the output feature map using the formula for pooling layers\n",
    "    n_C = n_C_prev # the number of channels remains the same as in the input\n",
    "\n",
    "    # Initialize Output matrix\n",
    "    A = np.zeros((m, n_H, n_W, n_C)) # will store results after pooling operations\n",
    "\n",
    "    # Loop over training examples in batch\n",
    "    for i in range(m):\n",
    "        \n",
    "        # loop over output height\n",
    "        for h in range(n_H):\n",
    "            # for each height position in the output volume, calculate where to start and end slicing in the input activationmap based on stride and filter\n",
    "            vertical_start = stride * h\n",
    "            vertical_end = vertical_start + f\n",
    "            \n",
    "            # loop over output width\n",
    "            for w in range(n_W):\n",
    "                # similar to height, calculates horizontal start and end positions for slicing based on stride and filter size\n",
    "                horizontal_start = stride * w\n",
    "                horizontal_end = horizontal_start + f\n",
    "                \n",
    "                # loop over channels\n",
    "                for c in range(n_C):\n",
    "                    a_prev_slice = A_prev[i] # selects the corresponding input activation for the current training example `i`\n",
    "                    \n",
    "                    # Compute Pooling Operation\n",
    "                    # Depending on whether max or average pooling is specified:\n",
    "                    # For max pooling: computes the maximum value within the defined slice\n",
    "                    # For average pooling: computes the average value within the defined slice\n",
    "                    # the result is stored in A[i, h, w, c]\n",
    "                    if mode == 'max':\n",
    "                        A[i, h, w, c] = np.max(a_prev_slice[vertical_start:vertical_end,horizontal_start:horizontal_end,c])\n",
    "                    elif mode == 'average':\n",
    "                        A[i, h, w, c] = np.mean(a_prev_slice[vertical_start:vertical_end,horizontal_start:horizontal_end,c])\n",
    "\n",
    "    # saves necessary variables for use during backpropagation\n",
    "    cache = (A_prev, hparameters)\n",
    "    \n",
    "    # Making sure your output shape is correct\n",
    "    assert(A.shape == (m, n_H, n_W, n_C))\n",
    "\n",
    "    return A, cache"
   ]
  },
  {
   "cell_type": "code",
   "execution_count": 44,
   "id": "db3fcaee-aa79-43f9-abfb-4c7cce4a4bb1",
   "metadata": {},
   "outputs": [
    {
     "name": "stdout",
     "output_type": "stream",
     "text": [
      "mode = max\n",
      "A.shape = (2, 3, 3, 3)\n",
      "A =\n",
      " [[[[1.74481176 0.90159072 1.65980218]\n",
      "   [1.74481176 1.46210794 1.65980218]\n",
      "   [1.74481176 1.6924546  1.65980218]]\n",
      "\n",
      "  [[1.14472371 0.90159072 2.10025514]\n",
      "   [1.14472371 0.90159072 1.65980218]\n",
      "   [1.14472371 1.6924546  1.65980218]]\n",
      "\n",
      "  [[1.13162939 1.51981682 2.18557541]\n",
      "   [1.13162939 1.51981682 2.18557541]\n",
      "   [1.13162939 1.6924546  2.18557541]]]\n",
      "\n",
      "\n",
      " [[[1.19891788 0.84616065 0.82797464]\n",
      "   [0.69803203 0.84616065 1.2245077 ]\n",
      "   [0.69803203 1.12141771 1.2245077 ]]\n",
      "\n",
      "  [[1.96710175 0.84616065 1.27375593]\n",
      "   [1.96710175 0.84616065 1.23616403]\n",
      "   [1.62765075 1.12141771 1.2245077 ]]\n",
      "\n",
      "  [[1.96710175 0.86888616 1.27375593]\n",
      "   [1.96710175 0.86888616 1.23616403]\n",
      "   [1.62765075 1.12141771 0.79280687]]]]\n",
      "\n",
      "mode = average\n",
      "A.shape = (2, 3, 3, 3)\n",
      "A =\n",
      " [[[[-3.01046719e-02 -3.24021315e-03 -3.36298859e-01]\n",
      "   [ 1.43310483e-01  1.93146751e-01 -4.44905196e-01]\n",
      "   [ 1.28934436e-01  2.22428468e-01  1.25067597e-01]]\n",
      "\n",
      "  [[-3.81801899e-01  1.59993515e-02  1.70562706e-01]\n",
      "   [ 4.73707165e-02  2.59244658e-02  9.20338402e-02]\n",
      "   [ 3.97048605e-02  1.57189094e-01  3.45302489e-01]]\n",
      "\n",
      "  [[-3.82680519e-01  2.32579951e-01  6.25997903e-01]\n",
      "   [-2.47157416e-01 -3.48524998e-04  3.50539717e-01]\n",
      "   [-9.52551510e-02  2.68511000e-01  4.66056368e-01]]]\n",
      "\n",
      "\n",
      " [[[-1.73134159e-01  3.23771981e-01 -3.43175716e-01]\n",
      "   [ 3.80634669e-02  7.26706274e-02 -2.30268958e-01]\n",
      "   [ 2.03009393e-02  1.41414785e-01 -1.23158476e-02]]\n",
      "\n",
      "  [[ 4.44976963e-01 -2.61694592e-03 -3.10403073e-01]\n",
      "   [ 5.08114737e-01 -2.34937338e-01 -2.39611830e-01]\n",
      "   [ 1.18726772e-01  1.72552294e-01 -2.21121966e-01]]\n",
      "\n",
      "  [[ 4.29449255e-01  8.44699612e-02 -2.72909051e-01]\n",
      "   [ 6.76351685e-01 -1.20138225e-01 -2.44076712e-01]\n",
      "   [ 1.50774518e-01  2.89111751e-01  1.23238536e-03]]]]\n"
     ]
    }
   ],
   "source": [
    "# Case 1: stride of 1\n",
    "np.random.seed(1)\n",
    "A_prev = np.random.randn(2, 5, 5, 3)\n",
    "hparameters = {\"stride\" : 1, \"f\": 3}\n",
    "\n",
    "A, cache = pool_forward(A_prev, hparameters)\n",
    "print(\"mode = max\")\n",
    "print(\"A.shape = \" + str(A.shape))\n",
    "print(\"A =\\n\", A)\n",
    "print()\n",
    "A, cache = pool_forward(A_prev, hparameters, mode = \"average\")\n",
    "print(\"mode = average\")\n",
    "print(\"A.shape = \" + str(A.shape))\n",
    "print(\"A =\\n\", A)"
   ]
  },
  {
   "cell_type": "code",
   "execution_count": 45,
   "id": "f4eaf82a-ecfb-4702-92a0-699372de87e5",
   "metadata": {},
   "outputs": [
    {
     "name": "stdout",
     "output_type": "stream",
     "text": [
      "mode = max\n",
      "A.shape = (2, 2, 2, 3)\n",
      "A =\n",
      " [[[[1.74481176 0.90159072 1.65980218]\n",
      "   [1.74481176 1.6924546  1.65980218]]\n",
      "\n",
      "  [[1.13162939 1.51981682 2.18557541]\n",
      "   [1.13162939 1.6924546  2.18557541]]]\n",
      "\n",
      "\n",
      " [[[1.19891788 0.84616065 0.82797464]\n",
      "   [0.69803203 1.12141771 1.2245077 ]]\n",
      "\n",
      "  [[1.96710175 0.86888616 1.27375593]\n",
      "   [1.62765075 1.12141771 0.79280687]]]]\n",
      "\n",
      "mode = average\n",
      "A.shape = (2, 2, 2, 3)\n",
      "A =\n",
      " [[[[-0.03010467 -0.00324021 -0.33629886]\n",
      "   [ 0.12893444  0.22242847  0.1250676 ]]\n",
      "\n",
      "  [[-0.38268052  0.23257995  0.6259979 ]\n",
      "   [-0.09525515  0.268511    0.46605637]]]\n",
      "\n",
      "\n",
      " [[[-0.17313416  0.32377198 -0.34317572]\n",
      "   [ 0.02030094  0.14141479 -0.01231585]]\n",
      "\n",
      "  [[ 0.42944926  0.08446996 -0.27290905]\n",
      "   [ 0.15077452  0.28911175  0.00123239]]]]\n"
     ]
    }
   ],
   "source": [
    "# Case 2: stride of 2\n",
    "np.random.seed(1)\n",
    "A_prev = np.random.randn(2, 5, 5, 3)\n",
    "hparameters = {\"stride\" : 2, \"f\": 3}\n",
    "\n",
    "A, cache = pool_forward(A_prev, hparameters)\n",
    "print(\"mode = max\")\n",
    "print(\"A.shape = \" + str(A.shape))\n",
    "print(\"A =\\n\", A)\n",
    "print()\n",
    "\n",
    "A, cache = pool_forward(A_prev, hparameters, mode = \"average\")\n",
    "print(\"mode = average\")\n",
    "print(\"A.shape = \" + str(A.shape))\n",
    "print(\"A =\\n\", A)"
   ]
  },
  {
   "cell_type": "markdown",
   "id": "1feb76e3-b4a9-49a4-9e9f-8110a1cf80a1",
   "metadata": {},
   "source": [
    "Congratulations! You have now implemented the forward passes of all the layers of a convolutional network. "
   ]
  },
  {
   "cell_type": "code",
   "execution_count": null,
   "id": "b2491693-01c1-4073-99f3-c17f430dddbe",
   "metadata": {},
   "outputs": [],
   "source": []
  }
 ],
 "metadata": {
  "kernelspec": {
   "display_name": "Python 3 (ipykernel)",
   "language": "python",
   "name": "python3"
  },
  "language_info": {
   "codemirror_mode": {
    "name": "ipython",
    "version": 3
   },
   "file_extension": ".py",
   "mimetype": "text/x-python",
   "name": "python",
   "nbconvert_exporter": "python",
   "pygments_lexer": "ipython3",
   "version": "3.13.1"
  }
 },
 "nbformat": 4,
 "nbformat_minor": 5
}
